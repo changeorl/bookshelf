{
 "cells": [
  {
   "cell_type": "code",
   "execution_count": 1,
   "id": "327613bf",
   "metadata": {},
   "outputs": [],
   "source": [
    "from base import DatabaseApi\n",
    "from utils import *"
   ]
  },
  {
   "cell_type": "code",
   "execution_count": 2,
   "id": "09f91c16",
   "metadata": {},
   "outputs": [],
   "source": [
    "database1 = DatabaseApi()\n",
    "res = database1.retrieve(\"61abd05763c84033a98f577e7e92ad16\")"
   ]
  },
  {
   "cell_type": "code",
   "execution_count": 5,
   "id": "5e665711",
   "metadata": {},
   "outputs": [
    {
     "name": "stdout",
     "output_type": "stream",
     "text": [
      "object:           database\n",
      "id:               61abd057-63c8-4033-a98f-577e7e92ad16\n",
      "cover:            None\n",
      "icon:             None\n",
      "created_time:     2022-10-24T08:53:00.000Z\n",
      "created_by:       {'object': 'user', 'id': '3d2397d0-e90e-4604-8a85-fb03cdb9fae9'}\n",
      "last_edited_by:   {'object': 'user', 'id': '3d2397d0-e90e-4604-8a85-fb03cdb9fae9'}\n",
      "last_edited_time: 2023-07-05T08:04:00.000Z\n",
      "title:            [{'type': 'text', 'text': {'content': 'book', 'link': None}, 'annotations': {'bold': False, 'italic': False, 'strikethrough': False, 'underline': False, 'code': False, 'color': 'default'}, 'plain_text': 'book', 'href': None}]\n",
      "description:      []\n",
      "is_inline:        True\n",
      "properties:       {'DBID': {'id': '%3CFGT', 'name': 'DBID', 'type': 'number', 'number': {'format': 'number'}}, 'rating': {'id': 'ALfP', 'name': 'rating', 'type': 'rich_text', 'rich_text': {}}, 'ISBN': {'id': 'CqC%7B', 'name': 'ISBN', 'type': 'number', 'number': {'format': 'number'}}, 'source': {'id': 'Sp%3FL', 'name': 'source', 'type': 'multi_select', 'multi_select': {'options': [{'id': '7fc3c90e-a60f-4654-874f-479b7b1ac30f', 'name': 'book', 'color': 'yellow'}, {'id': '8d82a5b6-c3ce-4b0b-a75a-a4f2fb965612', 'name': 'iPad', 'color': 'blue'}, {'id': '5154b3bb-8928-4e18-a47e-88bffe5ddfcd', 'name': 'kindle', 'color': 'brown'}]}}, 'author': {'id': 'WF%40X', 'name': 'author', 'type': 'rich_text', 'rich_text': {}}, 'publication': {'id': 'Yb%5BN', 'name': 'publication', 'type': 'rich_text', 'rich_text': {}}, 'sub_title': {'id': '_xeF', 'name': 'sub_title', 'type': 'rich_text', 'rich_text': {}}, 'cover': {'id': 've%7C%7C', 'name': 'cover', 'type': 'files', 'files': {}}, 'title': {'id': 'title', 'name': 'title', 'type': 'title', 'title': {}}}\n",
      "parent:           {'type': 'block_id', 'block_id': '16c11fda-f2ea-4469-b794-df071ad16f1f'}\n",
      "url:              https://www.notion.so/61abd05763c84033a98f577e7e92ad16\n",
      "public_url:       https://harmonious-thought-cdb.notion.site/61abd05763c84033a98f577e7e92ad16\n",
      "archived:         False\n"
     ]
    }
   ],
   "source": [
    "aprint(res)"
   ]
  },
  {
   "cell_type": "code",
   "execution_count": 7,
   "id": "180ed61d",
   "metadata": {},
   "outputs": [
    {
     "name": "stdout",
     "output_type": "stream",
     "text": [
      "DBID:        {'id': '%3CFGT', 'name': 'DBID', 'type': 'number', 'number': {'format': 'number'}}\n",
      "rating:      {'id': 'ALfP', 'name': 'rating', 'type': 'rich_text', 'rich_text': {}}\n",
      "ISBN:        {'id': 'CqC%7B', 'name': 'ISBN', 'type': 'number', 'number': {'format': 'number'}}\n",
      "source:      {'id': 'Sp%3FL', 'name': 'source', 'type': 'multi_select', 'multi_select': {'options': [{'id': '7fc3c90e-a60f-4654-874f-479b7b1ac30f', 'name': 'book', 'color': 'yellow'}, {'id': '8d82a5b6-c3ce-4b0b-a75a-a4f2fb965612', 'name': 'iPad', 'color': 'blue'}, {'id': '5154b3bb-8928-4e18-a47e-88bffe5ddfcd', 'name': 'kindle', 'color': 'brown'}]}}\n",
      "author:      {'id': 'WF%40X', 'name': 'author', 'type': 'rich_text', 'rich_text': {}}\n",
      "publication: {'id': 'Yb%5BN', 'name': 'publication', 'type': 'rich_text', 'rich_text': {}}\n",
      "sub_title:   {'id': '_xeF', 'name': 'sub_title', 'type': 'rich_text', 'rich_text': {}}\n",
      "cover:       {'id': 've%7C%7C', 'name': 'cover', 'type': 'files', 'files': {}}\n",
      "title:       {'id': 'title', 'name': 'title', 'type': 'title', 'title': {}}\n"
     ]
    }
   ],
   "source": [
    "aprint(res[\"properties\"])"
   ]
  },
  {
   "cell_type": "code",
   "execution_count": null,
   "id": "d52705f7",
   "metadata": {},
   "outputs": [],
   "source": []
  }
 ],
 "metadata": {
  "kernelspec": {
   "display_name": "Python 3 (ipykernel)",
   "language": "python",
   "name": "python3"
  },
  "language_info": {
   "codemirror_mode": {
    "name": "ipython",
    "version": 3
   },
   "file_extension": ".py",
   "mimetype": "text/x-python",
   "name": "python",
   "nbconvert_exporter": "python",
   "pygments_lexer": "ipython3",
   "version": "3.8.17"
  },
  "widgets": {
   "application/vnd.jupyter.widget-state+json": {
    "state": {},
    "version_major": 2,
    "version_minor": 0
   }
  }
 },
 "nbformat": 4,
 "nbformat_minor": 5
}
